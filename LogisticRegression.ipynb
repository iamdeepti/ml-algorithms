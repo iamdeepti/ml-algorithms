{
 "cells": [
  {
   "cell_type": "code",
   "execution_count": 4,
   "metadata": {},
   "outputs": [
    {
     "data": {
      "text/html": [
       "<div>\n",
       "<style scoped>\n",
       "    .dataframe tbody tr th:only-of-type {\n",
       "        vertical-align: middle;\n",
       "    }\n",
       "\n",
       "    .dataframe tbody tr th {\n",
       "        vertical-align: top;\n",
       "    }\n",
       "\n",
       "    .dataframe thead th {\n",
       "        text-align: right;\n",
       "    }\n",
       "</style>\n",
       "<table border=\"1\" class=\"dataframe\">\n",
       "  <thead>\n",
       "    <tr style=\"text-align: right;\">\n",
       "      <th></th>\n",
       "      <th>Daily Time Spent on Site</th>\n",
       "      <th>Age</th>\n",
       "      <th>Area Income</th>\n",
       "      <th>Daily Internet Usage</th>\n",
       "      <th>Ad Topic Line</th>\n",
       "      <th>City</th>\n",
       "      <th>Male</th>\n",
       "      <th>Country</th>\n",
       "      <th>Timestamp</th>\n",
       "      <th>Clicked on Ad</th>\n",
       "    </tr>\n",
       "  </thead>\n",
       "  <tbody>\n",
       "    <tr>\n",
       "      <th>0</th>\n",
       "      <td>68.95</td>\n",
       "      <td>35</td>\n",
       "      <td>61833.90</td>\n",
       "      <td>256.09</td>\n",
       "      <td>Cloned 5thgeneration orchestration</td>\n",
       "      <td>Wrightburgh</td>\n",
       "      <td>0</td>\n",
       "      <td>Tunisia</td>\n",
       "      <td>2016-03-27 00:53:11</td>\n",
       "      <td>0</td>\n",
       "    </tr>\n",
       "    <tr>\n",
       "      <th>1</th>\n",
       "      <td>80.23</td>\n",
       "      <td>31</td>\n",
       "      <td>68441.85</td>\n",
       "      <td>193.77</td>\n",
       "      <td>Monitored national standardization</td>\n",
       "      <td>West Jodi</td>\n",
       "      <td>1</td>\n",
       "      <td>Nauru</td>\n",
       "      <td>2016-04-04 01:39:02</td>\n",
       "      <td>0</td>\n",
       "    </tr>\n",
       "    <tr>\n",
       "      <th>2</th>\n",
       "      <td>69.47</td>\n",
       "      <td>26</td>\n",
       "      <td>59785.94</td>\n",
       "      <td>236.50</td>\n",
       "      <td>Organic bottom-line service-desk</td>\n",
       "      <td>Davidton</td>\n",
       "      <td>0</td>\n",
       "      <td>San Marino</td>\n",
       "      <td>2016-03-13 20:35:42</td>\n",
       "      <td>0</td>\n",
       "    </tr>\n",
       "    <tr>\n",
       "      <th>3</th>\n",
       "      <td>74.15</td>\n",
       "      <td>29</td>\n",
       "      <td>54806.18</td>\n",
       "      <td>245.89</td>\n",
       "      <td>Triple-buffered reciprocal time-frame</td>\n",
       "      <td>West Terrifurt</td>\n",
       "      <td>1</td>\n",
       "      <td>Italy</td>\n",
       "      <td>2016-01-10 02:31:19</td>\n",
       "      <td>0</td>\n",
       "    </tr>\n",
       "    <tr>\n",
       "      <th>4</th>\n",
       "      <td>68.37</td>\n",
       "      <td>35</td>\n",
       "      <td>73889.99</td>\n",
       "      <td>225.58</td>\n",
       "      <td>Robust logistical utilization</td>\n",
       "      <td>South Manuel</td>\n",
       "      <td>0</td>\n",
       "      <td>Iceland</td>\n",
       "      <td>2016-06-03 03:36:18</td>\n",
       "      <td>0</td>\n",
       "    </tr>\n",
       "  </tbody>\n",
       "</table>\n",
       "</div>"
      ],
      "text/plain": [
       "   Daily Time Spent on Site  Age  Area Income  Daily Internet Usage  \\\n",
       "0                     68.95   35     61833.90                256.09   \n",
       "1                     80.23   31     68441.85                193.77   \n",
       "2                     69.47   26     59785.94                236.50   \n",
       "3                     74.15   29     54806.18                245.89   \n",
       "4                     68.37   35     73889.99                225.58   \n",
       "\n",
       "                           Ad Topic Line            City  Male     Country  \\\n",
       "0     Cloned 5thgeneration orchestration     Wrightburgh     0     Tunisia   \n",
       "1     Monitored national standardization       West Jodi     1       Nauru   \n",
       "2       Organic bottom-line service-desk        Davidton     0  San Marino   \n",
       "3  Triple-buffered reciprocal time-frame  West Terrifurt     1       Italy   \n",
       "4          Robust logistical utilization    South Manuel     0     Iceland   \n",
       "\n",
       "             Timestamp  Clicked on Ad  \n",
       "0  2016-03-27 00:53:11              0  \n",
       "1  2016-04-04 01:39:02              0  \n",
       "2  2016-03-13 20:35:42              0  \n",
       "3  2016-01-10 02:31:19              0  \n",
       "4  2016-06-03 03:36:18              0  "
      ]
     },
     "execution_count": 4,
     "metadata": {},
     "output_type": "execute_result"
    }
   ],
   "source": [
    "#used for manipulating directory paths\n",
    "import os\n",
    "\n",
    "#scientific and vector computation in python\n",
    "import numpy as np\n",
    "\n",
    "#Plotting library\n",
    "from matplotlib import pyplot\n",
    "#to plot 3D plots\n",
    "from mpl_toolkits.mplot3d import Axes3D\n",
    "\n",
    "# for scientifice computing\n",
    "from scipy import optimize\n",
    "\n",
    "#tells matplotlib to include graphs within the notebook\n",
    "%matplotlib inline\n",
    "\n",
    "# to read csv files\n",
    "import pandas as pd\n",
    "\n",
    "data = pd.read_csv(os.path.join(\"data\",\"advertising.csv\"))\n",
    "data.head()"
   ]
  },
  {
   "cell_type": "code",
   "execution_count": 5,
   "metadata": {},
   "outputs": [
    {
     "name": "stdout",
     "output_type": "stream",
     "text": [
      "(1000, 4)\n",
      "(1000,)\n"
     ]
    }
   ],
   "source": [
    "X = np.stack((np.ones(1000),data.iloc[:,3],data.iloc[:,0],data.iloc[:,1]))\n",
    "X = X.T\n",
    "Y = (data.iloc[:,9])\n",
    "'''X = m X 2 array where X[1] = daily internet usage and X[2] = daily time spent on site X[3] = age\n",
    "Y = if clicked on add or not\n",
    "'''\n",
    "print(X.shape)\n",
    "print(Y.shape)"
   ]
  },
  {
   "cell_type": "code",
   "execution_count": 6,
   "metadata": {},
   "outputs": [
    {
     "data": {
      "text/plain": [
       "<matplotlib.legend.Legend at 0x7fcf19fa6400>"
      ]
     },
     "execution_count": 6,
     "metadata": {},
     "output_type": "execute_result"
    },
    {
     "data": {
      "image/png": "[encoded data removed]",
      "text/plain": [
       "<Figure size 432x288 with 1 Axes>"
      ]
     },
     "metadata": {
      "needs_background": "light"
     },
     "output_type": "display_data"
    }
   ],
   "source": [
    "pos = Y==1\n",
    "neg = Y==0\n",
    "\n",
    "pyplot.plot(X[pos,1],X[pos,2],\"r+\")\n",
    "pyplot.plot(X[neg,1],X[neg,2],\"bx\")\n",
    "pyplot.xlabel(\"daily internet usage\")\n",
    "pyplot.ylabel(\"daily time spent on site\")\n",
    "pyplot.legend(['Clicked on add','not clicked'])"
   ]
  },
  {
   "cell_type": "code",
   "execution_count": 7,
   "metadata": {},
   "outputs": [],
   "source": [
    "def sigmoid(z):\n",
    "    sigm = 1+ np.exp(-z)\n",
    "    sigm = 1/sigm\n",
    "    return sigm"
   ]
  },
  {
   "cell_type": "code",
   "execution_count": 18,
   "metadata": {},
   "outputs": [],
   "source": [
    "def costFunction(theta,X,y):\n",
    "    J = 0.0\n",
    "    m = Y.size\n",
    "    J = -1/m * np.sum(((1-y)*np.log(1-sigmoid(np.dot(X,theta))))+((y)*np.log(sigmoid(np.dot(X,theta)))))\n",
    "    grad = 1/m*np.dot(X.T,(sigmoid(np.dot(X,theta))-y))\n",
    "    return J, grad"
   ]
  },
  {
   "cell_type": "code",
   "execution_count": 15,
   "metadata": {},
   "outputs": [],
   "source": [
    "def costFunctionDebug(theta,x,y):\n",
    "    J = 0.0\n",
    "    m = Y.size\n",
    "    theta = theta[:,np.newaxis]\n",
    "    #J = -1/m * np.sum(((1-y)*np.log(1-sigmoid(np.dot(x,theta))))+((y)*np.log(sigmoid(np.dot(x,theta)))))\n",
    "    #N = np.log(1-sigmoid(np.dot(X,theta))) \n",
    "    print(x.shape)\n",
    "    \n",
    "    print(theta.shape)\n",
    "    N = np.dot(x,theta)\n",
    "    N = sigmoid(N)\n",
    "    N = np.log(1-N)\n",
    "    #print( N.shape)\n",
    "    N = N.ravel()\n",
    "    #print(((1-y)*N).shape)\n",
    "    N = (1-y)*N\n",
    "    K = np.dot(x,theta)\n",
    "    K = sigmoid(K)\n",
    "    K = np.log(K)\n",
    "    #print( N.shape)\n",
    "    K = K.ravel()\n",
    "    #print(((1-y)*N).shape)\n",
    "    K = (y)*K\n",
    "    N = N + K\n",
    "    J = np.sum(N)\n",
    "    J = -1/m * J\n",
    "    #grad = np.zeros(theta.shape[0])\n",
    "    grad_temp = np.dot(x,theta)\n",
    "    grad_temp = sigmoid(grad_temp)\n",
    "    grad_temp = grad_temp.ravel()\n",
    "    grad_temp = grad_temp -y\n",
    "    grad_temp = np.dot(X.T,grad_temp)\n",
    "    grad_temp = grad_temp.ravel()\n",
    "    grad_temp = 1/m * grad_temp;\n",
    "    grad = grad_temp\n",
    "    #grad = 1/m * np.dot(X.T,(sigmoid(np.dot(x,theta))-y))\n",
    "    return J, grad.ravel()"
   ]
  },
  {
   "cell_type": "code",
   "execution_count": 20,
   "metadata": {},
   "outputs": [
    {
     "name": "stdout",
     "output_type": "stream",
     "text": [
      "(1000, 3)\n",
      "0.6931471805599454\n",
      "[ 0.      17.25682  5.92721]\n"
     ]
    }
   ],
   "source": [
    "print(X[:,:3].shape)\n",
    "J,grad = costFunction(np.array([0,0,0]),X[:,:3],Y)\n",
    "print(J)\n",
    "print( grad)"
   ]
  },
  {
   "cell_type": "code",
   "execution_count": 21,
   "metadata": {},
   "outputs": [
    {
     "name": "stdout",
     "output_type": "stream",
     "text": [
      "0.15649467240315612\n",
      "[21.2554304  -0.06156532 -0.14984457]\n"
     ]
    }
   ],
   "source": [
    "options = {'maxiter' : 400}\n",
    "initial_theta = np.zeros(3)\n",
    "x = X[:,:3]\n",
    "#print(x.shape)\n",
    "y = Y[:]\n",
    "#print(y.shape)\n",
    "#res = optimize.minimize(computeCost,initial_theta,(X[:,:3],Y),jac = True,method = 'TNC',options = options)\n",
    "res = optimize.minimize(costFunction,\n",
    "                        initial_theta,\n",
    "                        (x, y),\n",
    "                        jac=True,\n",
    "                        method='TNC',\n",
    "                        options=options)\n",
    "\n",
    "cost = res.fun\n",
    "theta = res.x\n",
    "print(cost)\n",
    "print(theta)"
   ]
  },
  {
   "cell_type": "code",
   "execution_count": 18,
   "metadata": {},
   "outputs": [],
   "source": [
    "def gradientDescent(X,Y,theta,alpha,num_iters):\n",
    "    '''num_iters = number of iterations\n",
    "        alpha = learning rate\n",
    "        J_history = value of cost function at each iterations\n",
    "    '''\n",
    "    m = Y.size\n",
    "    J_history = []\n",
    "    \n",
    "    for i in range(num_iters):\n",
    "        theta = theta - (alpha/m)*np.dot(X.T,sigmoid(np.dot(X,theta))-Y)\n",
    "        J_history.append(costFunction(X,Y,theta)[0])\n",
    "    return theta, J_history"
   ]
  },
  {
   "cell_type": "code",
   "execution_count": 78,
   "metadata": {},
   "outputs": [
    {
     "name": "stdout",
     "output_type": "stream",
     "text": [
      "[ 0.07491368 -0.00309383  0.00187269]\n"
     ]
    }
   ],
   "source": [
    "num_iters = 4000;\n",
    "theta, J_history = gradientDescent(x,Y,initial_theta,0.00021,num_iters)\n",
    "print(theta)\n",
    "#Fprint(J_history)"
   ]
  },
  {
   "cell_type": "code",
   "execution_count": 79,
   "metadata": {},
   "outputs": [
    {
     "data": {
      "text/plain": [
       "[<matplotlib.lines.Line2D at 0x7f003586cf28>]"
      ]
     },
     "execution_count": 79,
     "metadata": {},
     "output_type": "execute_result"
    },
    {
     "data": {
      "image/png": "[encoded data removed]",
      "text/plain": [
       "<Figure size 432x288 with 1 Axes>"
      ]
     },
     "metadata": {
      "needs_background": "light"
     },
     "output_type": "display_data"
    }
   ],
   "source": [
    "pyplot.plot(np.arange(1,num_iters+1),J_history)"
   ]
  },
  {
   "cell_type": "markdown",
   "metadata": {},
   "source": [
    "<p> The above Learning curve shows that gradient descent requires more than 4000 iterations to converge"
   ]
  },
  {
   "cell_type": "code",
   "execution_count": 22,
   "metadata": {},
   "outputs": [
    {
     "data": {
      "text/plain": [
       "<matplotlib.legend.Legend at 0x7fcf171772b0>"
      ]
     },
     "execution_count": 22,
     "metadata": {},
     "output_type": "execute_result"
    },
    {
     "data": {
      "image/png": "[encoded data removed]",
      "text/plain": [
       "<Figure size 432x288 with 1 Axes>"
      ]
     },
     "metadata": {
      "needs_background": "light"
     },
     "output_type": "display_data"
    }
   ],
   "source": [
    "pos = Y==1\n",
    "neg = Y==0\n",
    "\n",
    "pyplot.plot(X[pos,1],X[pos,2],\"r+\")\n",
    "pyplot.plot(X[neg,1],X[neg,2],\"bx\")\n",
    "pyplot.xlabel(\"daily internet usage\")\n",
    "pyplot.ylabel(\"daily time spent on site\")\n",
    " # Only need 2 points to define a line, so choose two endpoints\n",
    "plot_x = np.array([np.min(X[:, 1]) - 2, np.max(X[:, 1]) + 2])\n",
    "\n",
    "        # Calculate the decision boundary line\n",
    "plot_y = (-1. / theta[2]) * (theta[1] * plot_x + theta[0])\n",
    "\n",
    "        # Plot, and adjust axes for better viewing\n",
    "pyplot.plot(plot_x, plot_y)\n",
    "pyplot.legend(['Clicked on add','not clicked','decision boundary'])"
   ]
  },
  {
   "cell_type": "markdown",
   "metadata": {},
   "source": [
    "<p> The blue line shows the decision boundary for the curve, although I have written the code for gradient descent but it will require like 10,0000 iterations to minimize the cost function, therefore I have used optimize.minimize() instead. </p>"
   ]
  },
  {
   "cell_type": "code",
   "execution_count": null,
   "metadata": {},
   "outputs": [],
   "source": []
  }
 ],
 "metadata": {
  "kernelspec": {
   "display_name": "Python 3",
   "language": "python",
   "name": "python3"
  },
  "language_info": {
   "codemirror_mode": {
    "name": "ipython",
    "version": 3
   },
   "file_extension": ".py",
   "mimetype": "text/x-python",
   "name": "python",
   "nbconvert_exporter": "python",
   "pygments_lexer": "ipython3",
   "version": "3.7.1"
  }
 },
 "nbformat": 4,
 "nbformat_minor": 2
}
